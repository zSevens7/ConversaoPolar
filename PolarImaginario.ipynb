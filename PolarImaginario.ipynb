{
  "nbformat": 4,
  "nbformat_minor": 0,
  "metadata": {
    "colab": {
      "provenance": []
    },
    "kernelspec": {
      "name": "python3",
      "display_name": "Python 3"
    },
    "language_info": {
      "name": "python"
    }
  },
  "cells": [
    {
      "cell_type": "code",
      "source": [
        "import cmath\n",
        "import math\n",
        "\n",
        "def complex_to_polar(complex_num_str):\n",
        "    \"\"\"Converte número complexo para coordenadas polares (magnitude e graus).\"\"\"\n",
        "    try:\n",
        "        complex_num = complex(complex_num_str)\n",
        "        magnitude = abs(complex_num)\n",
        "        phase_rad = cmath.phase(complex_num)\n",
        "        phase_deg = math.degrees(phase_rad)\n",
        "        return magnitude, phase_deg\n",
        "    except ValueError:\n",
        "        return \"Erro: Número complexo inválido.\"\n",
        "\n",
        "def polar_to_complex(magnitude, angle_deg):\n",
        "    \"\"\"Converte coordenadas polares para número complexo.\"\"\"\n",
        "    try:\n",
        "        angle_rad = math.radians(float(angle_deg))\n",
        "        real = magnitude * math.cos(angle_rad)\n",
        "        imag = magnitude * math.sin(angle_rad)\n",
        "        return complex(real, imag)\n",
        "    except ValueError:\n",
        "        return \"Erro: Valores polares inválidos.\"\n",
        "\n",
        "def main():\n",
        "    while True:\n",
        "        print(\"\\n** Conversor de Coordenadas **\")\n",
        "        print(\"1. Complexo → Polar\")\n",
        "        print(\"2. Polar → Complexo\")\n",
        "        print(\"3. Sair\")\n",
        "\n",
        "        choice = input(\"Escolha uma opção (1/2/3): \")\n",
        "\n",
        "        if choice == '1':\n",
        "            complex_str = input(\"Digite o número complexo (ex: 3+4j): \")\n",
        "            result = complex_to_polar(complex_str)\n",
        "\n",
        "            if isinstance(result, tuple):\n",
        "                mag, phase = result\n",
        "                print(f\"\\nMagnitude: {mag:.2f}\")\n",
        "                print(f\"Ângulo: {phase:.2f}°\\n\")\n",
        "            else:\n",
        "                print(result)\n",
        "\n",
        "        elif choice == '2':\n",
        "            try:\n",
        "                mag = float(input(\"Magnitude: \"))\n",
        "                angle = float(input(\"Ângulo (graus): \"))\n",
        "                result = polar_to_complex(mag, angle)\n",
        "                print(f\"\\nNúmero complexo: {result:.2f}\\n\")\n",
        "            except ValueError:\n",
        "                print(\"Erro: Insira valores numéricos válidos.\")\n",
        "\n",
        "        elif choice == '3':\n",
        "            print(\"Encerrando o programa...\")\n",
        "            break\n",
        "\n",
        "        else:\n",
        "            print(\"Opção inválida. Tente novamente.\")\n",
        "\n",
        "if __name__ == \"__main__\":\n",
        "    main()"
      ],
      "metadata": {
        "colab": {
          "base_uri": "https://localhost:8080/"
        },
        "id": "TUsU1SFeb9hm",
        "outputId": "5df19af1-47c3-48a5-8b31-ffbc1b367b35"
      },
      "execution_count": null,
      "outputs": [
        {
          "output_type": "stream",
          "name": "stdout",
          "text": [
            "\n",
            "** Conversor de Coordenadas **\n",
            "1. Complexo → Polar\n",
            "2. Polar → Complexo\n",
            "3. Sair\n",
            "Escolha uma opção (1/2/3): 2\n",
            "Magnitude: 127\n",
            "Ângulo (graus): 30\n",
            "\n",
            "Número complexo: 109.99+63.50j\n",
            "\n",
            "\n",
            "** Conversor de Coordenadas **\n",
            "1. Complexo → Polar\n",
            "2. Polar → Complexo\n",
            "3. Sair\n",
            "Escolha uma opção (1/2/3): 5\n",
            "Opção inválida. Tente novamente.\n",
            "\n",
            "** Conversor de Coordenadas **\n",
            "1. Complexo → Polar\n",
            "2. Polar → Complexo\n",
            "3. Sair\n"
          ]
        }
      ]
    }
  ]
}